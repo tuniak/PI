{
 "cells": [
  {
   "cell_type": "code",
   "execution_count": 10,
   "metadata": {
    "collapsed": true
   },
   "outputs": [],
   "source": [
    "import matplotlib.pyplot as plt\n",
    "import numpy as np"
   ]
  },
  {
   "cell_type": "code",
   "execution_count": 11,
   "metadata": {
    "collapsed": true
   },
   "outputs": [],
   "source": [
    "fig = plt.figure()"
   ]
  },
  {
   "cell_type": "code",
   "execution_count": 12,
   "metadata": {
    "collapsed": true
   },
   "outputs": [],
   "source": [
    "means = []\n",
    "variances = []\n",
    "suma = []"
   ]
  },
  {
   "cell_type": "code",
   "execution_count": 13,
   "metadata": {
    "collapsed": true
   },
   "outputs": [],
   "source": [
    "step = []\n",
    "time = []\n",
    "with open('c1.txt') as file:\n",
    "    lines = file.readlines()\n",
    "    for line in lines:\n",
    "        cells = line.split()\n",
    "        if(cells[0]=='pocet'):\n",
    "            continue\n",
    "        step.append(cells[1])\n",
    "        time.append(cells[4])"
   ]
  },
  {
   "cell_type": "code",
   "execution_count": 14,
   "metadata": {
    "collapsed": false
   },
   "outputs": [
    {
     "name": "stdout",
     "output_type": "stream",
     "text": [
      "[329, 326, 327, 326, 327, 328, 329, 329, 329, 329]\n",
      "1155\n",
      "327.9\n",
      "1.49\n"
     ]
    }
   ],
   "source": [
    "difference = []\n",
    "for i in range(len(time) - 11,len(time) - 1):\n",
    "    difference.append(int(time[i+1]) - int(time[i]))\n",
    "print(difference)\n",
    "mean = np.array(difference).mean() \n",
    "variance = np.array(difference).var()\n",
    "suma.append(np.array(difference).sum())\n",
    "means.append(mean)\n",
    "variances.append(variance)\n",
    "print(sumo)\n",
    "print(mean)\n",
    "print(variance)"
   ]
  },
  {
   "cell_type": "code",
   "execution_count": 15,
   "metadata": {
    "collapsed": true
   },
   "outputs": [],
   "source": [
    "step = []\n",
    "time = []\n",
    "with open('c2.txt') as file:\n",
    "    lines = file.readlines()\n",
    "    for line in lines:\n",
    "        cells = line.split()\n",
    "        if(cells[0]=='pocet'):\n",
    "            continue\n",
    "        step.append(cells[1])\n",
    "        time.append(cells[4])"
   ]
  },
  {
   "cell_type": "code",
   "execution_count": 16,
   "metadata": {
    "collapsed": false
   },
   "outputs": [
    {
     "name": "stdout",
     "output_type": "stream",
     "text": [
      "[164, 164, 166, 166, 164, 165, 165, 164, 164, 165]\n",
      "164.7\n",
      "0.61\n"
     ]
    }
   ],
   "source": [
    "difference = []\n",
    "for i in range(len(time) - 11,len(time) - 1):\n",
    "    difference.append(int(time[i+1]) - int(time[i]))\n",
    "print(difference)\n",
    "mean = np.array(difference).mean() \n",
    "variance = np.array(difference).var()\n",
    "means.append(mean)\n",
    "variances.append(variance)\n",
    "print(mean)\n",
    "print(variance)\n",
    "suma.append(np.array(difference).sum())"
   ]
  },
  {
   "cell_type": "code",
   "execution_count": 17,
   "metadata": {
    "collapsed": true
   },
   "outputs": [],
   "source": [
    "step = []\n",
    "time = []\n",
    "with open('c4.txt') as file:\n",
    "    lines = file.readlines()\n",
    "    for line in lines:\n",
    "        cells = line.split()\n",
    "        if(cells[0]=='pocet'):\n",
    "            continue\n",
    "        step.append(cells[1])\n",
    "        time.append(cells[4])"
   ]
  },
  {
   "cell_type": "code",
   "execution_count": 18,
   "metadata": {
    "collapsed": false
   },
   "outputs": [
    {
     "name": "stdout",
     "output_type": "stream",
     "text": [
      "[116, 114, 113, 113, 113, 114, 123, 118, 117, 114]\n",
      "115.5\n",
      "9.05\n"
     ]
    }
   ],
   "source": [
    "difference = []\n",
    "for i in range(len(time) - 11,len(time) - 1):\n",
    "    difference.append(int(time[i+1]) - int(time[i]))\n",
    "print(difference)\n",
    "mean = np.array(difference).mean() \n",
    "variance = np.array(difference).var()\n",
    "means.append(mean)\n",
    "variances.append(variance)\n",
    "print(mean)\n",
    "print(variance)\n",
    "suma.append(np.array(difference).sum())"
   ]
  },
  {
   "cell_type": "code",
   "execution_count": 19,
   "metadata": {
    "collapsed": true
   },
   "outputs": [],
   "source": [
    "step = []\n",
    "time = []\n",
    "with open('c8.txt') as file:\n",
    "    lines = file.readlines()\n",
    "    for line in lines:\n",
    "        cells = line.split()\n",
    "        if(cells[0]=='pocet'):\n",
    "            continue\n",
    "        step.append(cells[1])\n",
    "        time.append(cells[4])"
   ]
  },
  {
   "cell_type": "code",
   "execution_count": 20,
   "metadata": {
    "collapsed": false
   },
   "outputs": [
    {
     "name": "stdout",
     "output_type": "stream",
     "text": [
      "[75, 65, 64, 64, 63, 64, 74, 62, 62, 61]\n",
      "65.4\n",
      "22.04\n"
     ]
    }
   ],
   "source": [
    "difference = []\n",
    "for i in range(len(time) - 11,len(time) - 1):\n",
    "    difference.append(int(time[i+1]) - int(time[i]))\n",
    "print(difference)\n",
    "mean = np.array(difference).mean() \n",
    "variance = np.array(difference).var()\n",
    "means.append(mean)\n",
    "variances.append(variance)\n",
    "print(mean)\n",
    "print(variance)\n",
    "suma.append(np.array(difference).sum())"
   ]
  },
  {
   "cell_type": "code",
   "execution_count": 21,
   "metadata": {
    "collapsed": true
   },
   "outputs": [],
   "source": [
    "step = []\n",
    "time = []\n",
    "with open('c16.txt') as file:\n",
    "    lines = file.readlines()\n",
    "    for line in lines:\n",
    "        cells = line.split()\n",
    "        if(cells[0]=='pocet'):\n",
    "            continue\n",
    "        step.append(cells[1])\n",
    "        time.append(cells[4])"
   ]
  },
  {
   "cell_type": "code",
   "execution_count": 22,
   "metadata": {
    "collapsed": false
   },
   "outputs": [
    {
     "name": "stdout",
     "output_type": "stream",
     "text": [
      "[56, 54, 54, 52, 53, 57, 57, 57, 58, 57]\n",
      "55.5\n",
      "3.85\n"
     ]
    }
   ],
   "source": [
    "difference = []\n",
    "for i in range(len(time) - 11,len(time) - 1):\n",
    "    difference.append(int(time[i+1]) - int(time[i]))\n",
    "print(difference)\n",
    "mean = np.array(difference).mean() \n",
    "variance = np.array(difference).var()\n",
    "means.append(mean)\n",
    "variances.append(variance)\n",
    "print(mean)\n",
    "print(variance)\n",
    "suma.append(np.array(difference).sum())"
   ]
  },
  {
   "cell_type": "code",
   "execution_count": 23,
   "metadata": {
    "collapsed": true
   },
   "outputs": [],
   "source": [
    "step = []\n",
    "time = []\n",
    "with open('c32.txt') as file:\n",
    "    lines = file.readlines()\n",
    "    for line in lines:\n",
    "        cells = line.split()\n",
    "        if(cells[0]=='pocet'):\n",
    "            continue\n",
    "        step.append(cells[1])\n",
    "        time.append(cells[4])"
   ]
  },
  {
   "cell_type": "code",
   "execution_count": 24,
   "metadata": {
    "collapsed": false
   },
   "outputs": [
    {
     "name": "stdout",
     "output_type": "stream",
     "text": [
      "[32, 29, 29, 29, 29, 29, 29, 30, 29, 30]\n",
      "29.5\n",
      "0.85\n"
     ]
    }
   ],
   "source": [
    "difference = []\n",
    "for i in range(len(time) - 11,len(time) - 1):\n",
    "    difference.append(int(time[i+1]) - int(time[i]))\n",
    "print(difference)\n",
    "mean = np.array(difference).mean() \n",
    "variance = np.array(difference).var()\n",
    "means.append(mean)\n",
    "variances.append(variance)\n",
    "print(mean)\n",
    "print(variance)\n",
    "suma.append(np.array(difference).sum())"
   ]
  },
  {
   "cell_type": "code",
   "execution_count": 26,
   "metadata": {
    "collapsed": false
   },
   "outputs": [
    {
     "name": "stdout",
     "output_type": "stream",
     "text": [
      "[327.89999999999998, 164.69999999999999, 115.5, 65.400000000000006, 55.5, 29.5]\n",
      "[1.4900000000000002, 0.60999999999999999, 9.0500000000000007, 22.039999999999999, 3.8500000000000001, 0.84999999999999998]\n",
      "[3279, 1647, 1155, 654, 555, 295]\n"
     ]
    }
   ],
   "source": [
    "print(means)\n",
    "print(variances)\n",
    "print(suma)"
   ]
  },
  {
   "cell_type": "code",
   "execution_count": 27,
   "metadata": {
    "collapsed": true
   },
   "outputs": [],
   "source": [
    "cores = [1,2,4,8,16,32]"
   ]
  },
  {
   "cell_type": "code",
   "execution_count": 33,
   "metadata": {
    "collapsed": false
   },
   "outputs": [],
   "source": [
    "#plt.scatter(cores,means, 'ro')\n",
    "plt.plot(cores,suma, '-o')\n",
    "plt.xlabel('number of threads')\n",
    "plt.ylabel('seconds')\n",
    "plt.title('STRONG SCALING \\n timelength of 1000 steps against number of threads')\n",
    "#plt.show()\n",
    "plt.savefig('strongscaling.pdf')"
   ]
  },
  {
   "cell_type": "code",
   "execution_count": null,
   "metadata": {
    "collapsed": true
   },
   "outputs": [],
   "source": []
  }
 ],
 "metadata": {
  "anaconda-cloud": {},
  "kernelspec": {
   "display_name": "Python [conda root]",
   "language": "python",
   "name": "conda-root-py"
  },
  "language_info": {
   "codemirror_mode": {
    "name": "ipython",
    "version": 3
   },
   "file_extension": ".py",
   "mimetype": "text/x-python",
   "name": "python",
   "nbconvert_exporter": "python",
   "pygments_lexer": "ipython3",
   "version": "3.5.2"
  }
 },
 "nbformat": 4,
 "nbformat_minor": 1
}
